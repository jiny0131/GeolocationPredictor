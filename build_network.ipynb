{
 "cells": [
  {
   "cell_type": "code",
   "execution_count": 1,
   "id": "0aae25a5",
   "metadata": {},
   "outputs": [],
   "source": [
    "import csv\n",
    "def open_file(filename):\n",
    "    with open(filename) as f:\n",
    "        reader = csv.reader(f)\n",
    "        header = next(reader)\n",
    "        tw_dict = {}\n",
    "        for i in reader:\n",
    "            if(i[1] in tw_dict):\n",
    "                tw_dict[i[1]].append(i[2])\n",
    "            else:\n",
    "                tw_dict[i[1]] = []\n",
    "                tw_dict[i[1]].append(i[2])\n",
    "        return tw_dict"
   ]
  },
  {
   "cell_type": "code",
   "execution_count": 2,
   "id": "9a70d032",
   "metadata": {},
   "outputs": [],
   "source": [
    "import re\n",
    "\n",
    "def find_user(text):\n",
    "    pattern = re.compile(r'@USER_\\w{8}')\n",
    "    result = pattern.findall(text)\n",
    "    pos = 0\n",
    "    for pos in range(len(result)):\n",
    "        result[pos] = result[pos][1:]\n",
    "    return result\n",
    "\n",
    "def relation_dict(tw_dict):\n",
    "    relation_dict = {}\n",
    "    l = []\n",
    "    for user in tw_dict:\n",
    "        txs = tw_dict[user]\n",
    "        one_rl = {}\n",
    "        for tx in txs:\n",
    "            rl_users = find_user(tx)\n",
    "            for one_user in rl_users:\n",
    "                if(one_user in one_rl):\n",
    "                    one_rl[one_user] += 1\n",
    "                else:\n",
    "                    one_rl[one_user] = 1\n",
    "                    \n",
    "        if(len(one_rl) > 0):\n",
    "            relation_dict[user] = one_rl\n",
    "#         else:\n",
    "#             print(user, \"no friends!!\")\n",
    "\n",
    "    return relation_dict"
   ]
  },
  {
   "cell_type": "code",
   "execution_count": 3,
   "id": "6a484c26",
   "metadata": {},
   "outputs": [],
   "source": [
    "def direct_link(rl_dict, user):\n",
    "    dl_dict = {}\n",
    "    l_users = rl_dict[user]\n",
    "    for l_user in l_users:\n",
    "        if(l_user in rl_dict and l_user != user):\n",
    "#             print(\"There is a linked user is\", l_user, \"with mentioned time\", l_users[l_user])\n",
    "            dl_dict[l_user] = l_users[l_user]\n",
    "            if(user in rl_dict[l_user]):\n",
    "#                 print(\"Linked back user is\", l_user, \"with mentioned time\", rl_dict[l_user][user])\n",
    "                dl_dict[l_user] += rl_dict[l_user][user]\n",
    "    return dl_dict"
   ]
  },
  {
   "cell_type": "code",
   "execution_count": 4,
   "id": "51783571",
   "metadata": {},
   "outputs": [],
   "source": [
    "def is_celebrity(user, rl_dict, threshhold):\n",
    "    if(user not in rl_dict):\n",
    "        count = 0\n",
    "        for i_user in rl_dict:\n",
    "            if(user in rl_dict[i_user]):\n",
    "                count += 1\n",
    "        if(count > threshhold):\n",
    "#             print(\"celebrity is\", user)\n",
    "            return True\n",
    "    return False\n",
    "    \n",
    "    \n",
    "def indirect_link(rl_dict, user, threshhold):\n",
    "    idl_dict = {}\n",
    "    l_users = rl_dict[user]\n",
    "    for l_user in l_users:\n",
    "        if(l_user != user):\n",
    "            for o_user in rl_dict:\n",
    "                if(o_user != user):\n",
    "                    ol_users = rl_dict[o_user]\n",
    "                    if(l_user in ol_users and not is_celebrity(l_user, rl_dict, threshhold)):\n",
    "#                         print(\"User\", user, \"and\", o_user, \"both mentioned\", l_user, l_users[l_user] + ol_users[l_user], \"times\")\n",
    "                        idl_dict[o_user] = l_users[l_user] + ol_users[l_user]\n",
    "    return idl_dict"
   ]
  },
  {
   "cell_type": "code",
   "execution_count": 5,
   "id": "319b550d",
   "metadata": {},
   "outputs": [],
   "source": [
    "def generate_network(rl_dict, celebrity_threshhold):\n",
    "    network = {}\n",
    "    for user in rl_dict:\n",
    "        dl = direct_link(rl_dict, user)\n",
    "        indl = indirect_link(rl_dict, user, celebrity_threshhold)\n",
    "        link = {}\n",
    "        for l in dl:\n",
    "            link[l] = dl[l]\n",
    "#             if(l in indl):\n",
    "#                 link[l] += indl[l]\n",
    "        for l in indl:\n",
    "            if(l not in link):\n",
    "                link[l] = indl[l]\n",
    "        if(len(link) > 0):\n",
    "            network[user] = link\n",
    "    return network"
   ]
  },
  {
   "cell_type": "code",
   "execution_count": 8,
   "id": "fabe1c09",
   "metadata": {},
   "outputs": [],
   "source": [
    "import networkx as nx\n",
    "from node2vec import Node2Vec\n",
    "def node2vec_300(network, tw_dict):\n",
    "    g = nx.Graph()\n",
    "    for user in network:\n",
    "        for l_user in network[user]:\n",
    "            g.add_edge(user, l_user, weight = network[user][l_user])\n",
    "    for o_user in tw_dict:\n",
    "        if(o_user not in network):\n",
    "            g.add_node(o_user)\n",
    "    node2vec = Node2Vec(g, dimensions = 300, walk_length = 200, num_walks = 20, p = 0.25, q = 0.25, workers = 8)\n",
    "    model = node2vec.fit()\n",
    "#     l = model.wv.vectors\n",
    "#     node = model.wv.key_to_index \n",
    "    \n",
    "    return model"
   ]
  },
  {
   "cell_type": "code",
   "execution_count": 7,
   "id": "ce0b7c58",
   "metadata": {},
   "outputs": [],
   "source": [
    "import csv\n",
    "import numpy as np\n",
    "def get_vector(user, l, node):\n",
    "    if(user in node):\n",
    "        return l[node[user]]\n",
    "    else:\n",
    "        o = []\n",
    "        for i in range(300):\n",
    "            o.append(0)\n",
    "        return np.array(o)\n",
    "\n",
    "def generate_file(filename, output_name, l, node):\n",
    "    out_f = open(\"%s_node2vec300.csv\"%output_name, 'w', newline='')\n",
    "    writer = csv.writer(out_f)\n",
    "    \n",
    "    with open(filename) as f:\n",
    "        reader = csv.reader(f)\n",
    "        header = next(reader)\n",
    "        writer.writerow(header)\n",
    "        alin = []\n",
    "        for i in reader:\n",
    "            if(i[1] not in alin):\n",
    "                alin.append(i[1])\n",
    "                writer.writerow((i[0], i[1], str(get_vector(i[1], l, node))))\n",
    "        print(len(alin))\n",
    "    out_f.close()\n",
    "\n",
    "# generate_file('D:/comp90049/project3/data/train_full.csv', 'train', l, node)"
   ]
  },
  {
   "cell_type": "code",
   "execution_count": 9,
   "id": "0ddda4d1",
   "metadata": {},
   "outputs": [],
   "source": [
    "def work_flow(filename, output_name):\n",
    "    tw_dict = open_file(filename)\n",
    "    rl_dict = relation_dict(tw_dict)\n",
    "    network = generate_network(rl_dict, 50)\n",
    "    model = node2vec_300(network, tw_dict)\n",
    "    l = model.wv.vectors\n",
    "    node = model.wv.key_to_index \n",
    "    generate_file(filename, output_name, l, node)"
   ]
  },
  {
   "cell_type": "code",
   "execution_count": 10,
   "id": "3b4057f9",
   "metadata": {},
   "outputs": [
    {
     "data": {
      "application/vnd.jupyter.widget-view+json": {
       "model_id": "06b39490e2b74339ae3b463b04ee7f4e",
       "version_major": 2,
       "version_minor": 0
      },
      "text/plain": [
       "Computing transition probabilities:   0%|          | 0/3400 [00:00<?, ?it/s]"
      ]
     },
     "metadata": {},
     "output_type": "display_data"
    },
    {
     "name": "stdout",
     "output_type": "stream",
     "text": [
      "3400\n"
     ]
    },
    {
     "data": {
      "application/vnd.jupyter.widget-view+json": {
       "model_id": "c35054bbadc64a0c82ba21be5e34618f",
       "version_major": 2,
       "version_minor": 0
      },
      "text/plain": [
       "Computing transition probabilities:   0%|          | 0/300 [00:00<?, ?it/s]"
      ]
     },
     "metadata": {},
     "output_type": "display_data"
    },
    {
     "name": "stdout",
     "output_type": "stream",
     "text": [
      "300\n"
     ]
    },
    {
     "data": {
      "application/vnd.jupyter.widget-view+json": {
       "model_id": "c036ea0519c04f67a2153366592ac1c4",
       "version_major": 2,
       "version_minor": 0
      },
      "text/plain": [
       "Computing transition probabilities:   0%|          | 0/300 [00:00<?, ?it/s]"
      ]
     },
     "metadata": {},
     "output_type": "display_data"
    },
    {
     "name": "stdout",
     "output_type": "stream",
     "text": [
      "300\n",
      "Wall time: 3min 7s\n"
     ]
    }
   ],
   "source": [
    "%%time\n",
    "work_flow('D:/comp90049/project3/data/train_full.csv', 'train')\n",
    "work_flow('D:/comp90049/project3/data/dev_full.csv', 'dev')\n",
    "work_flow('D:/comp90049/project3/data/test_full.csv', 'test')"
   ]
  },
  {
   "cell_type": "code",
   "execution_count": null,
   "id": "1c74aa04",
   "metadata": {},
   "outputs": [],
   "source": []
  }
 ],
 "metadata": {
  "kernelspec": {
   "display_name": "Python 3",
   "language": "python",
   "name": "python3"
  },
  "language_info": {
   "codemirror_mode": {
    "name": "ipython",
    "version": 3
   },
   "file_extension": ".py",
   "mimetype": "text/x-python",
   "name": "python",
   "nbconvert_exporter": "python",
   "pygments_lexer": "ipython3",
   "version": "3.7.8"
  }
 },
 "nbformat": 4,
 "nbformat_minor": 5
}
